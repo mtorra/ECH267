{
 "cells": [
  {
   "cell_type": "markdown",
   "metadata": {},
   "source": [
    "# Direct Optimal Control Lecture and Demo\n",
    "\n",
    "## Python Code Basics\n",
    "\n",
    "Install the necessary packages"
   ]
  },
  {
   "cell_type": "code",
   "execution_count": 252,
   "metadata": {},
   "outputs": [
    {
     "name": "stdout",
     "output_type": "stream",
     "text": [
      "Requirement already satisfied: numpy in c:\\users\\monica\\anaconda3\\lib\\site-packages (1.19.2)\n",
      "Requirement already satisfied: matplotlib in c:\\users\\monica\\anaconda3\\lib\\site-packages (3.3.2)\n",
      "Requirement already satisfied: casadi in c:\\users\\monica\\anaconda3\\lib\\site-packages (3.5.5)\n",
      "Requirement already satisfied: scipy in c:\\users\\monica\\anaconda3\\lib\\site-packages (1.5.2)\n",
      "Requirement already satisfied: cycler>=0.10 in c:\\users\\monica\\anaconda3\\lib\\site-packages (from matplotlib) (0.10.0)\n",
      "Requirement already satisfied: certifi>=2020.06.20 in c:\\users\\monica\\anaconda3\\lib\\site-packages (from matplotlib) (2020.6.20)\n",
      "Requirement already satisfied: python-dateutil>=2.1 in c:\\users\\monica\\anaconda3\\lib\\site-packages (from matplotlib) (2.8.1)\n",
      "Requirement already satisfied: kiwisolver>=1.0.1 in c:\\users\\monica\\anaconda3\\lib\\site-packages (from matplotlib) (1.3.0)\n",
      "Requirement already satisfied: pillow>=6.2.0 in c:\\users\\monica\\anaconda3\\lib\\site-packages (from matplotlib) (8.0.1)\n",
      "Requirement already satisfied: pyparsing!=2.0.4,!=2.1.2,!=2.1.6,>=2.0.3 in c:\\users\\monica\\anaconda3\\lib\\site-packages (from matplotlib) (2.4.7)\n",
      "Requirement already satisfied: six in c:\\users\\monica\\anaconda3\\lib\\site-packages (from cycler>=0.10->matplotlib) (1.15.0)\n",
      "Note: you may need to restart the kernel to use updated packages.\n"
     ]
    }
   ],
   "source": [
    "pip install numpy matplotlib casadi scipy"
   ]
  },
  {
   "cell_type": "code",
   "execution_count": 253,
   "metadata": {},
   "outputs": [],
   "source": [
    "from scipy.optimize import fsolve\n",
    "from casadi import *\n",
    "import matplotlib.pyplot as plt"
   ]
  },
  {
   "cell_type": "markdown",
   "metadata": {},
   "source": [
    "## Illustrative Example\n",
    "\n",
    "This is the model of an adsorption column for scrubbing ${CO}_2$ from air in a cabin.\n",
    "\n",
    "Consider an isothermal adsorption bed with constant rate of generation of ${CO}_2$ in the cabin and constant rate of adsorption of ${CO}_2$ in the adsorber.\n",
    "\n",
    "The dimensionless mass balances are:\n",
    "$$\n",
    "    \\begin{aligned}\n",
    "        \\dot{x}_1 & = \\frac{u_2}{V_1} x_2 - \\frac{u_1}{V_1} x_1 + \\frac{r_1}{V_1} \\\\\n",
    "        \\dot{x}_2 & = \\frac{u_1}{V_2} x_1 - \\frac{u_2}{V_2} x_2 - \\frac{r_2}{V_2} \\\\\n",
    "    \\end{aligned}\n",
    "$$\n",
    "\n",
    "- $x_1$: $C_c$ concentration of ${CO}_2$ in the cabin\n",
    "- $x_2$: $C_a$ concentration of ${CO}_2$ in the adsorber\n",
    "- $u_1$: volumetric flow rate from cabin to adsorber\n",
    "- $u_2$: volumetric flow rate from adsorber to cabin\n",
    "- $V_1$: volume of the cabin\n",
    "- $V_2$: volume of the adsorber\n",
    "- $r_1$: rate of generation of ${CO}_2$ in the cabin\n",
    "- $r_2$: rate of adsorption of ${CO}_2$ in the adsorber"
   ]
  },
  {
   "cell_type": "code",
   "execution_count": 254,
   "metadata": {},
   "outputs": [],
   "source": [
    "def model(x, u, V, r):\n",
    "    \"\"\"Compute the right-hand side of the ODEs\n",
    "    \n",
    "    Args:\n",
    "        x (array-like): State vector\n",
    "        u (array-like): Input vector\n",
    "        sigma (array-like): Parameters\n",
    "    \n",
    "    Returns:\n",
    "        array-like: dx/dt    \n",
    "    \"\"\"\n",
    "    dxdt = [0.] * 2\n",
    "    dxdt[0] = (u[1]/V[0])*x[1] - (u[0]/V[0])*x[0] + (r[0]/V[0])\n",
    "    dxdt[1] = (u[0]/V[1])*x[0] - (u[1]/V[1])*x[1] - (r[1]/V[1])\n",
    "\n",
    "    return dxdt"
   ]
  },
  {
   "cell_type": "code",
   "execution_count": 273,
   "metadata": {},
   "outputs": [
    {
     "name": "stdout",
     "output_type": "stream",
     "text": [
      "xs = [ 5226.82494    15664.47507592]\n",
      "Exit flag: 5\n"
     ]
    }
   ],
   "source": [
    "# Get the steady-state\n",
    "us = [30, 10]\n",
    "V = [25, 0.4]\n",
    "r = [150, 160]        # set to [0,0] for steady state values\n",
    "f = lambda x: model(x, us, V, r)\n",
    "xs, _, flag, _ = fsolve(f, [10, 10], full_output=True) # intial guess x1 = 5000, x2 = 5000 (ppCO2)\n",
    "\n",
    "print(f'xs = {xs}')\n",
    "print(f'Exit flag: {flag}')"
   ]
  },
  {
   "cell_type": "code",
   "execution_count": 274,
   "metadata": {},
   "outputs": [
    {
     "name": "stdout",
     "output_type": "stream",
     "text": [
      "[ 5226.82494    15664.47507592]\n",
      "[-0.39989762620825786, -0.006398361932951957]\n"
     ]
    }
   ],
   "source": [
    "print(xs)\n",
    "print(model(xs, us, V, r))"
   ]
  },
  {
   "cell_type": "markdown",
   "metadata": {},
   "source": [
    "## Direct Optimal Control Parameterizations\n",
    "\n",
    "- Continuous-time optimal control problem:\n",
    "$$\n",
    "    \\begin{aligned}\n",
    "        & \\min_{x(\\cdot), ~u(\\cdot)} && \\int_0^T l_c(x(t), u(t))~dt + V_f(x(T)) \\\\\n",
    "        & \\quad\\text{s.t.} && x(0) = x_0 \\\\\n",
    "        &&& \\dot{x}(t) = f(x(t), u(t)) & t\\in [0,T] \\\\\n",
    "        &&& h(x(t), u(t)) \\leq 0 & t \\in [0,T]\n",
    "    \\end{aligned}\n",
    "$$\n",
    "- Want to translate to:\n",
    "$$\n",
    "    \\begin{aligned}\n",
    "        & \\min_{w \\in \\mathbb{R}^{n_w}} && F(w) \\\\\n",
    "        & \\quad\\text{s.t.} && G(x_0, w) = 0 \\\\\n",
    "        &&& H(w) \\leq 0\n",
    "    \\end{aligned}\n",
    "$$\n",
    "- Discretization:\n",
    "    1. Control trajectory (choose control parameterization)\n",
    "    1. State trajectory (numerical integrator)\n",
    "    1. Path constraints (impose at some grid points along time horizon)\n",
    "\n",
    "### Direct Single Shooting\n",
    "\n",
    "1. Parameterize control trajectory with a finite-dimensional vector $q \\in \\mathbb{R}^{n_q}$:\n",
    "$$\n",
    "    u(t) = \\tilde{u}(t; q) ~\\text{for}~ t \\in [0, T]\n",
    "$$\n",
    "\n",
    "    - Example: $\\tilde{u} : [0, T] \\times \\mathbb{R}^{n_q} \\to \\mathbb{R}^m$ is a polynomial of degree $p$; need to fit $(p+1)$ coefficients so $n_q = (p+1)m$\n",
    "    - Usually, use a piecewise constant control parameterization (zeroth-order hold)\n",
    "    - Divide $[0, T]$ into $N$ subintervals $[t_i, t_{i+1}]$ with $0 = t_0 < t_1 < \\cdots < t_N = T$ ($\\Delta = T/N$)\n",
    "    $$\n",
    "        \\tilde{u}(t; q) = q_i ~\\text{for}~t \\in [t_i, t_{i+1})\n",
    "    $$\n",
    "    for $i = 0, \\ldots, N-1$\n",
    "    - Decision variable vector:\n",
    "    $$\n",
    "        q :=\n",
    "        \\begin{bmatrix}\n",
    "            q_0 \\\\ q_1 \\\\ \\vdots \\\\ q_{N-1}\n",
    "        \\end{bmatrix} \\in \\mathbb{R}^{n_q = Nm}\n",
    "    $$\n",
    "2. Numerical simulation to get $x(t)$:\n",
    "$$\n",
    "    \\tilde{x}(t; x_0, q) ~\\forall~t \\in [0, T]\n",
    "$$\n",
    "    \n",
    "    - To avoid, non-smooth RHS stop and restart integrator at each $t_i$, $i = 1, \\ldots, N-1$ where $\\tilde{x}(t_i; x_0, q)$ is both the initial state for the interval $[t_i, t_{i+1}]$ and final state for the interval $[t_{i-1}, t_i]$\n",
    "    - Cost\n",
    "        1. Add quadrature state\n",
    "        $$\n",
    "            \\dot{x}_{quad}(t) = l_c(x(t), u(t))\n",
    "        $$\n",
    "        \n",
    "        2. Refinement grid divide into $M$ equally sized subintervals: $[\\tau_{i,j}, \\tau_{i,j+1}]$ with $\\tau_{i,j} := t_i +j/M(t_{i+1} - t_i)$, $j = 0, \\ldots, M$, $i = 0, \\ldots, N-1$. Reiman sum:\n",
    "        $$\n",
    "            F(x_0, q) := \\sum_{i=0}^{N-1} \\sum_{j = 0}^{M-1} l_c(\\tilde{x}(\\tau_{i,j}; x_0, q), \\tilde{u}(\\tau_{i,j}; q))(\\tau_{i,j+1} - \\tau_{i,j}) + V_f(\\tilde{x}(T; x_0, q))\n",
    "        $$\n",
    "3. Discretization of path constraints (usually pick same grid as control discretization) and for simplicitiy of notation, define $h(\\tau_{i,j}) := h(\\tilde{x}(\\tau_{i,j}; x_0, q), \\tilde{u}(\\tau_{i,j}; q))$\n",
    "$$\n",
    "    H(x_0, q) := \\begin{bmatrix}\n",
    "                    h(\\tau_{0,0}) \\\\ h(\\tau_{0,1}) \\\\ \\vdots \\\\ \n",
    "                    h(\\tau_{1,0}) \\\\ h(\\tau_{1,1}) \\\\ \\vdots \\\\ \n",
    "                    h(\\tau_{N-1, M-1}) \\\\ h_f(\\tilde{x}(T; x_0, q))\n",
    "                 \\end{bmatrix}\n",
    "$$\n",
    "where $h : \\mathbb{R}^n \\times \\mathbb{R}^m \\to \\mathbb{R}^{n_h}$, $h_f : \\mathbb{R}^n \\to \\mathbb{R}^{n_{h_f}}$ and $H : \\mathbb{R}^n \\times \\mathbb{R}^{Nm} \\to \\mathbb{R}^{NMn_h + n_{h_f}}$\n",
    "\n",
    "Resulting problem:\n",
    "$$\n",
    "    \\begin{aligned}\n",
    "        & \\min_{s_0, q} && F(s_0, q) \\\\\n",
    "        & ~~\\text{s.t.} && s_0 - x_0 = 0 \\\\\n",
    "        &&& H(s_0, q) \\leq 0\n",
    "    \\end{aligned}\n",
    "$$\n",
    "\n",
    "### Aside - Integrators in CasADi"
   ]
  },
  {
   "cell_type": "code",
   "execution_count": 275,
   "metadata": {},
   "outputs": [
    {
     "name": "stdout",
     "output_type": "stream",
     "text": [
      "@1=25, @2=0.4, [((((u_1/@1)*x_1)-((u_0/@1)*x_0))+6), ((((u_0/@2)*x_0)-((u_1/@2)*x_1))-400)] (2, 1)\n"
     ]
    }
   ],
   "source": [
    "# CasADi works with symbolics\n",
    "t = SX.sym(\"t\", 1, 1)\n",
    "x = SX.sym(\"x\", 2, 1)\n",
    "u = SX.sym(\"u\", 2, 1)\n",
    "ode = vertcat(*model(x, u, V, r))\n",
    "print(ode, ode.shape)"
   ]
  },
  {
   "cell_type": "code",
   "execution_count": 276,
   "metadata": {},
   "outputs": [],
   "source": [
    "# Parameters (used in optimal control problem later as well)\n",
    "T = 2\n",
    "N = 100\n",
    "dt = T/N"
   ]
  },
  {
   "cell_type": "markdown",
   "metadata": {},
   "source": [
    "Construct an intergrating block $x_{k+1} = \\Phi(f; \\Delta t; x_k, u_k)$"
   ]
  },
  {
   "cell_type": "code",
   "execution_count": 277,
   "metadata": {},
   "outputs": [
    {
     "name": "stdout",
     "output_type": "stream",
     "text": [
      "{'qf': DM([]), 'rqf': DM([]), 'rxf': DM([]), 'rzf': DM([]), 'xf': DM([5000.12, 4992]), 'zf': DM([])}\n"
     ]
    }
   ],
   "source": [
    "f = {'x': x, 't':t, 'p':u, 'ode':ode}\n",
    "Phi = integrator(\"Phi\", \"cvodes\", f, {'tf': dt})\n",
    "# DM is mainly used for storing matrices in CasADi and as inputs/output of functions\n",
    "initial_condition = DM([5000, 5000])\n",
    "initial_condition_u = DM([30, 0.1])\n",
    "print(Phi(x0=initial_condition))"
   ]
  },
  {
   "cell_type": "code",
   "execution_count": 278,
   "metadata": {},
   "outputs": [],
   "source": [
    "# Integrate the model\n",
    "x = initial_condition\n",
    "history = [x]\n",
    "for i in range(N):\n",
    "    x = Phi(x0=x)[\"xf\"]\n",
    "    history.append(x)"
   ]
  },
  {
   "cell_type": "code",
   "execution_count": 279,
   "metadata": {
    "scrolled": true
   },
   "outputs": [
    {
     "data": {
      "text/plain": [
       "Text(0.5, 0, 'time (hr)')"
      ]
     },
     "execution_count": 279,
     "metadata": {},
     "output_type": "execute_result"
    },
    {
     "data": {
      "image/png": "[encoded data removed]",
      "text/plain": [
       "<Figure size 432x288 with 1 Axes>"
      ]
     },
     "metadata": {
      "needs_background": "light"
     },
     "output_type": "display_data"
    }
   ],
   "source": [
    "time = [i*dt for i in range(N+1)]\n",
    "plt.plot(time, horzcat(*history).T)\n",
    "plt.legend(['x1', 'x2'])\n",
    "plt.title('x1 & x2 vs time')\n",
    "plt.ylabel('ppCO2')\n",
    "plt.xlabel('time (hr)')"
   ]
  },
  {
   "cell_type": "markdown",
   "metadata": {},
   "source": [
    "### Example\n",
    "\n",
    "$$\n",
    "    \\begin{aligned}\n",
    "        & \\min_{x(\\cdot), ~u(\\cdot)} && \\int_0^T (x(t)-x_s)^TQ_c (x(t)-x_s) + (u(t)-u_s)^T R_c (u(t)-u_s) ~dt \\\\\n",
    "        & \\quad\\text{s.t.} && x(0) = x_0 \\\\\n",
    "        &&& \\dot{x}_1 = \\frac{u_2}{V_1} x_2 - \\frac{u_1}{V_1} x_1 + \\frac{r_1}{V_1} \\\\\n",
    "        &&& \\dot{x}_2 = \\frac{u_1}{V_2} x_1 - \\frac{u_2}{V_2} x_2 - \\frac{r_2}{V_1} \\\\\n",
    "        &&& \\\\\n",
    "        &&& 0 \\leq x_1(t) \\leq 5000 \\\\\n",
    "        &&& 0 \\leq x_2(t) \\leq 20000 \\\\   \n",
    "        &&& 30 \\leq u_1(t) \\leq 50 \\\\\n",
    "        &&& 0.1 \\leq u_2(t) \\leq 10,  t \\in [0,T] \\\\\n",
    "        &&& \\\\\n",
    "        &&& r_1 = 150, r_2 = 160 \\\\\n",
    "        &&& V_1 = 25, V_2 = 0.4 \\\\\n",
    "        &&& \\\\\n",
    "        &&& V(x) = \\frac{1}{2} x^T x\\\\\n",
    "        &&& \\Rightarrow \\dot{V}(x) = x^T \\dot{x} = x^T \\begin{bmatrix} \\dot{x}_1 \\\\ \\dot{x}_2 \\end{bmatrix} = x_1 \\dot{x}_1 + x_2 \\dot{x}_2 \\\\\n",
    "        &&& \\\\\n",
    "        &&& \\Rightarrow \\dot{V}(x) = \\frac{u_2}{V_1} x_1 x_2 - \\frac{u_1}{V_1} x_1^2 + \\frac{u_1}{V_2} x_1 x_2 - \\frac{u_2}{V_2} x_2^2 \\\\\n",
    "        &&& \\\\\n",
    "        &&& \\Rightarrow \\dot{V}(x) = (\\frac{u_2}{V_1} + \\frac{u_1}{V_2}) x_1 x_2 - (\\frac{u_1}{V_1} + \\frac{u_2}{V_2})(x_1^2 + x_2^2) \\\\\n",
    "        &&& \\\\\n",
    "        &&& \\dot{V}(x) \\leq 0 \\\\\n",
    "    \\end{aligned}\n",
    "$$"
   ]
  },
  {
   "cell_type": "code",
   "execution_count": 280,
   "metadata": {},
   "outputs": [
    {
     "name": "stdout",
     "output_type": "stream",
     "text": [
      "vertcat(x0, x1, x2, x3, x4, x5, x6, x7, x8, x9, x10, x11, x12, x13, x14, x15, x16, x17, x18, x19, x20, x21, x22, x23, x24, x25, x26, x27, x28, x29, x30, x31, x32, x33, x34, x35, x36, x37, x38, x39, x40, x41, x42, x43, x44, x45, x46, x47, x48, x49, x50, x51, x52, x53, x54, x55, x56, x57, x58, x59, x60, x61, x62, x63, x64, x65, x66, x67, x68, x69, x70, x71, x72, x73, x74, x75, x76, x77, x78, x79, x80, x81, x82, x83, x84, x85, x86, x87, x88, x89, x90, x91, x92, x93, x94, x95, x96, x97, x98, x99)\n",
      "(200, 1)\n"
     ]
    }
   ],
   "source": [
    "# Define the decision variable vector\n",
    "q=vertcat(*[MX.sym(f'x{i}',2,1) for i in range (N)]) \n",
    "print(q)\n",
    "print(q.shape)"
   ]
  },
  {
   "cell_type": "code",
   "execution_count": 281,
   "metadata": {},
   "outputs": [],
   "source": [
    "# Create the objective function (single shooting)\n",
    "cost = 0.\n",
    "Q = np.eye(2)*50\n",
    "R = np.eye(2)*0.01\n",
    "\n",
    "x_i = initial_condition\n",
    "u_i = initial_condition_u\n",
    "xss = DM(xs)\n",
    "uss = DM(us)\n",
    "\n",
    "for i in range(N):\n",
    "    q_i = q[2*i:2*i+2,:]\n",
    "    cost += (x_i-xss).T @ Q @ (x_i-xss) + (q_i-uss).T @ R @ (q_i-uss)\n",
    "    x_i = Phi(x0=x_i, p=q_i)['xf']"
   ]
  },
  {
   "cell_type": "markdown",
   "metadata": {},
   "source": [
    "Problem is transformed to (single shooting method):\n",
    "\n",
    "$$\n",
    "    \\begin{aligned}\n",
    "        & \\min_{q \\in \\mathbb{R}^{2N}} && F(x_0, q) \\\\\n",
    "        & \\quad\\text{s.t.} && q_{lb} \\leq q \\leq q_{ub}\n",
    "    \\end{aligned}\n",
    "$$"
   ]
  },
  {
   "cell_type": "code",
   "execution_count": 282,
   "metadata": {},
   "outputs": [
    {
     "name": "stdout",
     "output_type": "stream",
     "text": [
      "This is Ipopt version 3.12.3, running with linear solver mumps.\n",
      "NOTE: Other linear solvers might be more efficient (see Ipopt documentation).\n",
      "\n",
      "Number of nonzeros in equality constraint Jacobian...:        0\n",
      "Number of nonzeros in inequality constraint Jacobian.:        0\n",
      "Number of nonzeros in Lagrangian Hessian.............:    19704\n",
      "\n",
      "Total number of variables............................:      200\n",
      "                     variables with only lower bounds:        0\n",
      "                variables with lower and upper bounds:      200\n",
      "                     variables with only upper bounds:        0\n",
      "Total number of equality constraints.................:        0\n",
      "Total number of inequality constraints...............:        0\n",
      "        inequality constraints with only lower bounds:        0\n",
      "   inequality constraints with lower and upper bounds:        0\n",
      "        inequality constraints with only upper bounds:        0\n",
      "\n",
      "iter    objective    inf_pr   inf_du lg(mu)  ||d||  lg(rg) alpha_du alpha_pr  ls\n",
      "   0 1.5053252e+014 0.00e+000 5.45e+004  -1.0 0.00e+000    -  0.00e+000 0.00e+000   0\n",
      "   1 1.4541009e+014 0.00e+000 5.23e+004  -1.0 4.79e+000   2.0 2.39e-002 4.14e-002f  1\n",
      "   2 1.4491050e+014 0.00e+000 5.21e+004  -1.0 9.23e+000   1.5 4.19e-002 4.09e-003f  1\n",
      "   3 1.4144436e+014 0.00e+000 5.05e+004  -1.0 1.71e+000   1.9 1.84e-001 3.15e-002f  1\n",
      "   4 1.3469389e+014 0.00e+000 4.73e+004  -1.0 1.59e+000   1.5 1.10e-001 6.44e-002f  1\n",
      "   5 1.2351213e+014 0.00e+000 4.23e+004  -1.0 4.49e-001   1.9 4.18e-001 1.15e-001f  1\n",
      "   6 1.0332613e+014 0.00e+000 3.34e+004  -1.0 4.75e-001   1.4 4.55e-001 2.41e-001f  1\n",
      "   7 5.8739159e+013 0.00e+000 1.59e+004  -1.0 5.18e-001   0.9 4.70e-001 8.13e-001f  1\n",
      "   8 2.9691157e+013 0.00e+000 6.51e+003  -1.0 7.20e-001    -  2.24e-001 1.00e+000f  1\n",
      "   9 1.4805420e+013 0.00e+000 2.68e+003  -1.0 1.04e+000   0.5 6.38e-001 1.00e+000f  1\n",
      "iter    objective    inf_pr   inf_du lg(mu)  ||d||  lg(rg) alpha_du alpha_pr  ls\n",
      "  10 7.1691393e+012 0.00e+000 1.10e+003  -1.0 1.61e+000  -0.0 7.13e-001 1.00e+000f  1\n",
      "  11 3.3058543e+012 0.00e+000 4.48e+002  -1.0 5.31e+000  -0.5 8.82e-001 1.00e+000f  1\n",
      "  12 1.4126965e+012 0.00e+000 1.80e+002  -1.0 4.82e+000  -1.0 8.24e-001 1.00e+000f  1\n",
      "  13 5.3657579e+011 0.00e+000 7.08e+001  -1.0 2.29e+000    -  9.70e-001 1.00e+000f  1\n",
      "  14 4.1768757e+011 0.00e+000 5.64e+001  -1.0 2.10e+001    -  6.55e-001 2.30e-001f  1\n",
      "  15 1.2562382e+011 0.00e+000 2.09e+001  -1.0 5.87e+000    -  1.00e+000 1.00e+000f  1\n",
      "  16 3.9241532e+010 0.00e+000 8.55e+000  -1.0 7.43e+000    -  1.00e+000 8.31e-001f  1\n",
      "  17 1.0223372e+010 0.00e+000 2.37e+000  -1.0 2.84e+000    -  1.00e+000 1.00e+000f  1\n",
      "  18 6.6828065e+009 0.00e+000 3.94e-001  -1.0 1.18e+000    -  1.00e+000 1.00e+000f  1\n",
      "  19 6.4812818e+009 0.00e+000 2.35e-002  -1.7 3.17e-001    -  1.00e+000 1.00e+000f  1\n",
      "iter    objective    inf_pr   inf_du lg(mu)  ||d||  lg(rg) alpha_du alpha_pr  ls\n",
      "  20 6.4726573e+009 0.00e+000 7.40e-004  -2.5 1.83e-001    -  1.00e+000 1.00e+000f  1\n",
      "  21 6.4724589e+009 0.00e+000 3.33e-005  -3.8 5.90e-002    -  1.00e+000 1.00e+000f  1\n",
      "  22 6.4724583e+009 0.00e+000 7.20e-005  -5.7 2.27e-001    -  9.46e-001 1.00e+000f  1\n",
      "  23 6.4724584e+009 0.00e+000 8.95e-004  -5.7 1.55e+000    -  1.00e+000 1.00e+000f  1\n",
      "  24 6.4724583e+009 0.00e+000 1.08e-005  -5.7 4.30e-001    -  1.00e+000 1.00e+000f  1\n",
      "  25 6.4724583e+009 0.00e+000 1.89e-006  -8.6 7.50e-002    -  9.87e-001 1.00e+000f  1\n",
      "  26 6.4724583e+009 0.00e+000 2.15e-007  -8.6 5.31e-006  -1.4 1.00e+000 1.00e+000f  1\n",
      "  27 6.4724583e+009 0.00e+000 4.25e-008  -8.6 9.77e-007  -1.9 1.00e+000 1.00e+000f  1\n",
      "  28 6.4724583e+009 0.00e+000 6.54e-009  -8.6 7.46e-007  -2.4 1.00e+000 1.00e+000f  1\n",
      "  29 6.4724583e+009 0.00e+000 1.98e-009 -12.9 1.48e-006  -2.9 1.00e+000 1.00e+000f  1\n",
      "\n",
      "Number of Iterations....: 29\n",
      "\n",
      "                                   (scaled)                 (unscaled)\n",
      "Objective...............:  6.4724582875418193e+001   6.4724582875418196e+009\n",
      "Dual infeasibility......:  1.9785086353653779e-009   1.9785086353653780e-001\n",
      "Constraint violation....:  0.0000000000000000e+000   0.0000000000000000e+000\n",
      "Complementarity.........:  1.2606790337566358e-013   1.2606790337566359e-005\n",
      "Overall NLP error.......:  1.9785086353653779e-009   1.9785086353653780e-001\n",
      "\n",
      "\n",
      "Number of objective function evaluations             = 30\n",
      "Number of objective gradient evaluations             = 30\n",
      "Number of equality constraint evaluations            = 0\n",
      "Number of inequality constraint evaluations          = 0\n",
      "Number of equality constraint Jacobian evaluations   = 0\n",
      "Number of inequality constraint Jacobian evaluations = 0\n",
      "Number of Lagrangian Hessian evaluations             = 29\n",
      "Total CPU secs in IPOPT (w/o function evaluations)   =      0.157\n",
      "Total CPU secs in NLP function evaluations           =      6.342\n",
      "\n",
      "EXIT: Optimal Solution Found.\n",
      "      solver  :   t_proc      (avg)   t_wall      (avg)    n_eval\n",
      "       nlp_f  |  47.00ms (  1.57ms)  46.58ms (  1.55ms)        30\n",
      "  nlp_grad_f  | 222.00ms (  7.16ms) 221.34ms (  7.14ms)        31\n",
      "  nlp_hess_l  |   6.08 s (209.52ms)   6.08 s (209.53ms)        29\n",
      "       total  |   6.50 s (  6.50 s)   6.50 s (  6.50 s)         1\n"
     ]
    }
   ],
   "source": [
    "# Create the optmization problem\n",
    "lb=np.array([[30.],[0.1]]*N)\n",
    "ub=np.array([[50.],[10.]]*N)\n",
    "nlp={\"x\":q,\"f\":cost}\n",
    "solver=nlpsol('solver','ipopt',nlp)\n",
    "sol_out=solver(lbx=lb,ubx=ub)"
   ]
  },
  {
   "cell_type": "code",
   "execution_count": 283,
   "metadata": {},
   "outputs": [
    {
     "name": "stdout",
     "output_type": "stream",
     "text": [
      "(101, 2)\n",
      "(101, 2)\n"
     ]
    }
   ],
   "source": [
    "# Compute the state trajectory\n",
    "cost = 0.\n",
    "u = np.zeros((N+1, 2))\n",
    "x = np.zeros((N+1, 2))\n",
    "\n",
    "x[0, :] = np.array(initial_condition).reshape(2)\n",
    "x_i = initial_condition\n",
    "x_i = initial_condition\n",
    "\n",
    "for i in range(N):\n",
    "    u_i = np.array(sol_out['x'][2*i:2*i+2, :]).T\n",
    "    x_i = np.array(Phi(x0=x_i, p=u_i)['xf']).reshape((1,2))\n",
    "   \n",
    "    u[i, :] = u_i\n",
    "    x[i+1, :] = x_i\n",
    "\n",
    "# Append one extra for plotting\n",
    "u[N, :] = u_i\n",
    "print(x.shape)\n",
    "print(u.shape)"
   ]
  },
  {
   "cell_type": "code",
   "execution_count": 285,
   "metadata": {
    "scrolled": true
   },
   "outputs": [
    {
     "data": {
      "text/plain": [
       "<Figure size 1008x1008 with 0 Axes>"
      ]
     },
     "metadata": {},
     "output_type": "display_data"
    },
    {
     "data": {
      "image/png": "[encoded data removed]",
      "text/plain": [
       "<Figure size 720x720 with 4 Axes>"
      ]
     },
     "metadata": {
      "needs_background": "light"
     },
     "output_type": "display_data"
    }
   ],
   "source": [
    "# Figure\n",
    "plt.figure(figsize=[14, 14])\n",
    "fig, axs = plt.subplots(4, 1, figsize=[10, 10])\n",
    "t_max = 0.1\n",
    "for j in range(2):\n",
    "    axs[j].plot(time, x[:, j], 'b-')\n",
    "    axs[j].set_ylabel(f'$x_{j+1}$')\n",
    "    axs[j].set_xlim([0, t_max])\n",
    "\n",
    "for j in range(2):\n",
    "    axs[j+2].plot(time, u[:, j], 'b-')\n",
    "    axs[j+2].set_ylabel(f'$u_{j+1}$')\n",
    "    axs[j+2].set_xlim([0, t_max])\n",
    "    axs[j+2].set_ylim([0, 60])\n",
    "    axs[3].set_xlabel('time (hr)')"
   ]
  },
  {
   "cell_type": "markdown",
   "metadata": {},
   "source": [
    "### Direct Multiple Shooting\n",
    "\n",
    "1. Parameterize control trajectory with a finite-dimensional vector $q \\in \\mathbb{R}^{n_q}$:\n",
    "    $$\n",
    "        \\tilde{u}(t; q) = q_i ~\\text{for}~t \\in [t_i, t_{i+1})\n",
    "    $$\n",
    "    for $i = 0, \\ldots, N-1$\n",
    "    - Decision variable vector:\n",
    "    $$\n",
    "        q :=\n",
    "        \\begin{bmatrix}\n",
    "            q_0 \\\\ q_1 \\\\ \\vdots \\\\ q_{N-1}\n",
    "        \\end{bmatrix} \\in \\mathbb{R}^{n_q = Nm}\n",
    "    $$\n",
    "2. Numerical simulation to get $x(t)$:\n",
    "    - Same discretization choices, but keep\n",
    "    $$\n",
    "        s_i = x(t_i)\n",
    "    $$\n",
    "    as decision variables.\n",
    "    - $N$ decoupled integrations\n",
    "    $$\n",
    "       \\begin{aligned}\n",
    "           \\frac{d\\tilde{x}_i}{dt}(t; s_i, q_i) & = f(\\tilde{x}_i(t; s_i, q_i), q_i) && t \\in [0, T]\\\\\n",
    "           \\tilde{x}_i(t_i; s_i, q_i) & = s_i\n",
    "       \\end{aligned}\n",
    "    $$\n",
    "    - Each piece only depends on $s_i$ and $q_i$\n",
    "    - Using finer grid:\n",
    "    $$\n",
    "        l_i(s_i, q_i) = \\sum_{j = 0}^{M-1} l_c(\\tilde{x}(\\tau_{i,j}; s_i, q_i)(\\tau_{i,j+1}-\\tau_{i,j})\n",
    "    $$\n",
    "3. Discretization of path constraints (usually pick same grid as control discretization) and for simplicitiy of notation, define $h(\\tau_{i,j}) := h(\\tilde{x}_i(\\tau_{i,j}; s_i, q_i), q_i)$\n",
    "$$\n",
    "    H_i(s_i, q_i) := \\begin{bmatrix}\n",
    "                    h(\\tau_{i,0}) \\\\ h(\\tau_{i,1}) \\\\ \\vdots \\\\ \n",
    "                    h(\\tau_{i,M-1})\n",
    "                 \\end{bmatrix}\n",
    "$$\n",
    "where $h : \\mathbb{R}^n \\times \\mathbb{R}^m \\to \\mathbb{R}^{n_h}$ and $H_i : \\mathbb{R}^n \\times \\mathbb{R}^{m} \\to \\mathbb{R}^{Mn_h}$\n",
    "\n",
    "Resulting problem:\n",
    "$$\n",
    "    \\begin{aligned}\n",
    "        & \\min_{s, q} && \\sum_{i=0}^{N-1} l_i(s_i, q_i) + V_f(s_N) \\\\\n",
    "        & ~~\\text{s.t.} && s_0 - x_0 = 0 \\\\\n",
    "        &&& s_{i+1} = \\tilde{x}_i(t_{i+1}; s_i, q_i) & i = 0, \\ldots, N-1 \\\\\n",
    "        &&& H_i(s_i, q_i) \\leq 0 & i = 0, \\ldots , N-1 \\\\\n",
    "        &&& h_f(s_N) \\leq 0\n",
    "    \\end{aligned}\n",
    "$$"
   ]
  },
  {
   "cell_type": "code",
   "execution_count": 267,
   "metadata": {},
   "outputs": [
    {
     "name": "stdout",
     "output_type": "stream",
     "text": [
      "(200, 1)\n",
      "(402, 1)\n"
     ]
    }
   ],
   "source": [
    "# Define the decision variable vector\n",
    "q = vertcat(*[MX.sym(f'u{i}',2,1) for i in range(N)])\n",
    "s = vertcat(*[MX.sym(f'x{i}',2,1) for i in range(N+1)])\n",
    "\n",
    "z = []   # z = [s0,q0,s1,q1, ..., xN]\n",
    "zlb = []\n",
    "zub = []\n",
    "constraints = []\n",
    "\n",
    "# Create a function\n",
    "cost = 0.             #initialize at 0\n",
    "\n",
    "for i in range(N):\n",
    "    s_i = s[2*i:2*(i+1)]\n",
    "    s_ipl = s[2*(i+1):2*(i+2)]\n",
    "    q_i = q[2*i:2*(i+1)]\n",
    "    \n",
    "    if i == 0:\n",
    "        zlb += list(np.array(initial_condition).reshape(2))\n",
    "        zub += list(np.array(initial_condition).reshape(2))\n",
    "    else:\n",
    "        zlb += [0., 0.]         # lower bound for concentration\n",
    "        zub += [5000., 20000.]  # upper bound for concentration\n",
    "    zlb += [30., 0.1]           # lower bound for flow rate control\n",
    "    zub += [50., 10.]           # upper bound for flow rate control\n",
    "    \n",
    "    z.append(s_i)\n",
    "    z.append(q_i)\n",
    "\n",
    "    # Integrate\n",
    "    xt_ipl = Phi(x0=s_i, p=q_i)['xf']\n",
    "    # Create continuity constraints\n",
    "    constraints.append(xt_ipl - s_ipl)\n",
    "    # added to cost\n",
    "    cost += (s_i - xss).T @ Q @ (s_i - xss) + (q_i - uss).T @ R @ (q_i - uss)\n",
    "    \n",
    "# Last element sN\n",
    "z.append(s_ipl)\n",
    "zlb += [0., 0.]         # lower bound for concentration\n",
    "zub += [5000., 20000.]  # upper bound for concentration\n",
    "    \n",
    "constraints = vertcat(*constraints)\n",
    "variables = vertcat(*z)\n",
    "print(constraints.shape)\n",
    "print(variables.shape)"
   ]
  },
  {
   "cell_type": "code",
   "execution_count": 268,
   "metadata": {},
   "outputs": [
    {
     "name": "stdout",
     "output_type": "stream",
     "text": [
      "This is Ipopt version 3.12.3, running with linear solver mumps.\n",
      "NOTE: Other linear solvers might be more efficient (see Ipopt documentation).\n",
      "\n",
      "Number of nonzeros in equality constraint Jacobian...:      996\n",
      "Number of nonzeros in inequality constraint Jacobian.:        0\n",
      "Number of nonzeros in Lagrangian Hessian.............:      993\n",
      "\n",
      "Total number of variables............................:      400\n",
      "                     variables with only lower bounds:        0\n",
      "                variables with lower and upper bounds:      400\n",
      "                     variables with only upper bounds:        0\n",
      "Total number of equality constraints.................:      200\n",
      "Total number of inequality constraints...............:        0\n",
      "        inequality constraints with only lower bounds:        0\n",
      "   inequality constraints with lower and upper bounds:        0\n",
      "        inequality constraints with only upper bounds:        0\n",
      "\n",
      "iter    objective    inf_pr   inf_du lg(mu)  ||d||  lg(rg) alpha_du alpha_pr  ls\n",
      "   0 2.7115486e+008 1.24e+004 1.00e+002  -1.0 0.00e+000    -  0.00e+000 0.00e+000   0\n",
      "   1r2.7115486e+008 1.24e+004 9.99e+002   3.7 0.00e+000    -  0.00e+000 1.32e-007R  2\n",
      "   2r2.7115044e+008 1.23e+004 3.85e+003   3.7 1.22e+006    -  1.24e-002 3.26e-005f  1\n",
      "   3r2.7115042e+008 1.23e+004 3.82e+003   1.6 2.18e+003    -  9.96e-003 9.27e-003f  1\n",
      "   4r2.7114995e+008 8.91e+003 3.81e+003   1.6 1.70e+005    -  2.43e-004 9.56e-003f  1\n",
      "   5r2.7114995e+008 8.89e+003 3.71e+003   1.6 5.44e+004    -  3.87e-002 1.99e-004f  1\n",
      "   6r2.7114994e+008 8.89e+003 7.59e+004   1.6 2.83e+002    -  7.43e-001 3.46e-002f  1\n",
      "   7r2.7114947e+008 8.89e+003 5.57e+004   1.6 2.76e+002    -  2.69e-001 2.67e-001f  1\n",
      "   8r2.7114921e+008 8.89e+003 5.01e+004   1.6 2.02e+002    -  1.11e-001 1.04e-001f  1\n",
      "   9r2.7114831e+008 8.89e+003 4.09e+004   1.6 1.81e+002    -  3.57e-001 2.28e-001f  1\n",
      "iter    objective    inf_pr   inf_du lg(mu)  ||d||  lg(rg) alpha_du alpha_pr  ls\n",
      "  10r2.7114600e+008 8.89e+003 1.84e+004   1.6 1.40e+002    -  6.56e-002 4.45e-001f  1\n",
      "  11r2.7116805e+008 8.88e+003 4.46e+003   1.6 7.72e+001    -  1.48e-001 5.34e-001f  1\n",
      "  12r2.7130976e+008 8.88e+003 3.38e+003   1.6 6.96e+001    -  1.21e-001 1.61e-001f  1\n",
      "  13r2.7125699e+008 8.88e+003 1.35e+003   1.6 2.85e+001    -  2.81e-001 3.76e-001f  1\n",
      "  14r2.7122755e+008 8.88e+003 2.47e+003   1.6 1.56e+001    -  2.67e-001 7.55e-001f  1\n",
      "  15r2.7121059e+008 8.87e+003 1.79e+003   1.6 3.53e+001    -  2.60e-001 2.37e-001f  1\n",
      "  16r2.7120571e+008 8.87e+003 1.52e+003   1.6 8.81e+002   0.0 1.70e-003 9.51e-003f  1\n",
      "  17r2.7120454e+008 8.87e+003 9.08e+002   0.9 2.25e+001    -  2.21e-001 3.43e-002f  1\n",
      "  18r2.7119554e+008 8.86e+003 3.50e+002   0.9 5.86e+001   0.4 5.93e-002 1.71e-001f  1\n",
      "  19r2.7119395e+008 8.85e+003 1.76e+002   0.9 5.30e+001    -  2.04e-001 2.47e-002f  1\n",
      "iter    objective    inf_pr   inf_du lg(mu)  ||d||  lg(rg) alpha_du alpha_pr  ls\n",
      "  20r2.7117340e+008 8.84e+003 3.69e+002   0.9 6.56e+001    -  3.99e-002 2.61e-001f  1\n",
      "  21r2.7116790e+008 8.83e+003 8.62e+001   0.9 4.18e+001    -  2.92e-001 9.89e-002f  1\n",
      "  22r2.7115240e+008 8.82e+003 1.49e+002   0.2 3.51e+001    -  2.78e-001 3.87e-001f  1\n",
      "  23r2.7113059e+008 8.79e+003 2.39e+002   0.2 1.44e+002    -  5.48e-002 1.75e-001f  1\n",
      "  24r2.7112679e+008 8.79e+003 1.18e+002   0.2 1.05e+002    -  2.67e-001 4.05e-002f  1\n",
      "  25r2.7108104e+008 8.74e+003 2.58e+002   0.2 1.04e+002    -  1.05e-001 4.52e-001f  1\n",
      "  26r2.7106372e+008 8.73e+003 8.78e+001   0.2 5.56e+001    -  4.17e-001 2.64e-001f  1\n",
      "  27r2.7102160e+008 8.70e+003 1.46e+002   0.2 4.14e+001    -  3.21e-001 6.09e-001f  1\n",
      "  28r2.7097649e+008 8.69e+003 9.62e+001   0.2 1.60e+001    -  6.35e-001 1.00e+000f  1\n",
      "  29r2.7094977e+008 8.69e+003 1.39e-001   0.2 3.56e+000    -  1.00e+000 1.00e+000f  1\n",
      "iter    objective    inf_pr   inf_du lg(mu)  ||d||  lg(rg) alpha_du alpha_pr  ls\n",
      "  30r2.7096242e+008 8.69e+003 2.28e+002  -1.9 1.52e+000    -  9.18e-001 9.84e-001f  1\n",
      "  31r2.7093443e+008 8.66e+003 2.25e+002  -1.9 2.08e+003    -  2.86e-002 1.45e-002f  1\n",
      "  32r2.7092726e+008 8.65e+003 5.32e+002  -1.9 2.01e+003    -  3.03e-002 4.03e-003f  1\n",
      "  33r2.7086984e+008 8.58e+003 5.99e+002  -1.9 1.99e+003    -  3.97e-002 3.31e-002f  1\n",
      "  34r2.7086556e+008 8.58e+003 7.66e+002  -1.9 1.90e+003    -  1.66e-002 2.68e-003f  1\n",
      "  35r2.7086304e+008 8.58e+003 7.53e+002  -1.9 1.76e+003    -  2.86e-004 1.32e-003f  1\n",
      "  36r2.7086304e+008 8.58e+003 7.54e+002  -1.9 2.24e+004    -  1.43e-005 8.13e-007f  1\n",
      "  37r2.7086301e+008 8.58e+003 7.54e+002  -1.9 1.74e+003    -  5.90e-005 1.50e-005f  1\n",
      "  38r2.7086299e+008 8.58e+003 8.26e+002  -1.9 1.47e+003    -  8.06e-003 6.15e-006f  1\n",
      "  39r2.7083841e+008 8.56e+003 7.89e+002  -1.9 1.42e+003    -  6.86e-003 1.03e-002f  1\n",
      "iter    objective    inf_pr   inf_du lg(mu)  ||d||  lg(rg) alpha_du alpha_pr  ls\n",
      "  40r2.7082943e+008 8.55e+003 8.12e+002  -1.9 1.27e+003    -  8.21e-003 4.57e-003f  1\n",
      "  41r2.7082017e+008 8.55e+003 8.18e+002  -1.9 1.09e+003    -  7.24e-003 5.31e-003f  1\n",
      "  42r2.7081172e+008 8.54e+003 8.21e+002  -1.9 8.63e+002    -  7.25e-003 5.49e-003f  1\n",
      "  43r2.7080053e+008 8.54e+003 7.82e+002  -1.9 9.19e+002    -  7.77e-005 7.47e-003f  1\n",
      "  44r2.7075768e+008 8.48e+003 4.34e+002  -1.9 1.82e+003    -  1.51e-003 2.98e-002f  1\n",
      "  45r2.7072015e+008 8.44e+003 2.26e+003  -1.9 1.77e+003    -  1.87e-001 2.69e-002f  1\n",
      "  46r2.7063063e+008 8.32e+003 1.64e+003  -1.9 1.72e+003    -  1.41e-002 6.47e-002f  1\n",
      "  47r2.7061518e+008 8.30e+003 1.50e+003  -1.9 1.63e+003    -  1.32e-004 1.25e-002f  1\n",
      "  48r2.7061499e+008 8.30e+003 2.12e+003  -1.9 1.63e+002  -0.1 3.24e-001 1.38e-003f  1\n",
      "  49r2.7061448e+008 8.30e+003 2.12e+003  -1.9 9.81e+003    -  1.27e-003 1.48e-004f  1\n",
      "iter    objective    inf_pr   inf_du lg(mu)  ||d||  lg(rg) alpha_du alpha_pr  ls\n",
      "  50r2.7061430e+008 8.30e+003 2.10e+003  -1.9 1.18e+003    -  7.09e-003 7.45e-005f  1\n",
      "  51r2.7059241e+008 8.29e+003 2.09e+003  -1.9 1.22e+003    -  4.69e-003 8.00e-003f  1\n",
      "  52r2.7057418e+008 8.29e+003 2.09e+003  -1.9 1.21e+003    -  1.33e-003 6.93e-003f  1\n",
      "  53r2.7052588e+008 8.23e+003 2.09e+003  -1.9 1.53e+003    -  2.08e-004 3.49e-002f  1\n",
      "  54r2.7047939e+008 8.18e+003 1.83e+003  -1.9 1.50e+003    -  1.24e-001 3.68e-002f  1\n",
      "  55r2.7039820e+008 8.09e+003 1.70e+003  -1.9 1.44e+003    -  7.07e-002 6.32e-002f  1\n",
      "  56r2.7032828e+008 8.01e+003 1.75e+003  -1.9 1.35e+003    -  8.17e-002 5.82e-002f  1\n",
      "  57r2.7025757e+008 7.93e+003 1.70e+003  -1.9 1.27e+003    -  6.74e-002 6.02e-002f  1\n",
      "  58r2.7018666e+008 7.87e+003 1.50e+003  -1.9 1.20e+003    -  3.21e-002 4.91e-002f  1\n",
      "  59r2.7012360e+008 7.81e+003 1.18e+003  -1.9 2.92e+002  -0.5 2.43e-001 2.18e-001f  1\n",
      "iter    objective    inf_pr   inf_du lg(mu)  ||d||  lg(rg) alpha_du alpha_pr  ls\n",
      "  60r2.7004320e+008 7.80e+003 1.17e+003  -1.9 2.18e+003    -  8.79e-006 1.83e-003f  1\n",
      "  61r2.7001807e+008 7.79e+003 1.40e+003  -1.9 5.42e+002  -1.0 1.38e-001 3.29e-002f  1\n",
      "  62r2.6997061e+008 7.77e+003 1.40e+003  -1.9 7.87e+002  -1.5 3.32e-002 2.38e-002f  1\n",
      "  63r2.6992743e+008 7.76e+003 1.43e+003  -1.9 8.90e+002  -2.0 1.34e-002 6.86e-003f  1\n",
      "  64r2.6991702e+008 7.76e+003 1.55e+003  -1.9 9.66e+002    -  2.31e-002 1.33e-003f  1\n",
      "  65r2.6986710e+008 7.75e+003 1.95e+003  -1.9 1.00e+003    -  8.92e-002 1.44e-002f  1\n",
      "  66r2.6976804e+008 7.68e+003 5.95e+003  -1.9 1.01e+003    -  8.80e-001 7.00e-002f  1\n",
      "  67r2.6948942e+008 7.42e+003 4.55e+003  -1.9 9.37e+002    -  5.99e-001 2.68e-001f  1\n",
      "  68r2.6931331e+008 7.26e+003 3.73e+003  -1.9 6.86e+002    -  1.00e+000 2.35e-001f  1\n",
      "  69r2.6905100e+008 7.02e+003 2.02e+003  -1.9 5.25e+002    -  1.00e+000 4.60e-001f  1\n",
      "iter    objective    inf_pr   inf_du lg(mu)  ||d||  lg(rg) alpha_du alpha_pr  ls\n",
      "  70r2.6874619e+008 6.74e+003 1.46e+001  -1.9 2.83e+002    -  1.00e+000 1.00e+000f  1\n",
      "  71r2.6874610e+008 6.74e+003 1.06e-006  -1.9 1.10e-002    -  1.00e+000 1.00e+000f  1\n",
      "  72r2.6874607e+008 6.74e+003 2.26e+002  -4.3 1.97e-002    -  9.97e-001 1.00e+000f  1\n",
      "  73r2.6856342e+008 6.57e+003 7.60e+003  -4.3 3.07e+004    -  4.11e-002 5.59e-003f  1\n",
      "  74r2.6856341e+008 6.57e+003 2.08e+004  -4.3 3.04e+004    -  6.42e-002 3.54e-007f  1\n",
      "  75r2.6751269e+008 5.74e+003 2.94e+004  -4.3 3.02e+004    -  7.57e-002 2.75e-002f  1\n",
      "  76r2.6313624e+008 4.94e+003 2.89e+004  -4.3 2.94e+004    -  1.43e-001 1.25e-001f  1\n",
      "  77r2.6086746e+008 4.94e+003 1.75e+004  -4.3 2.57e+004    -  2.10e-002 8.03e-002f  1\n",
      "  78r2.6086735e+008 4.94e+003 1.75e+004  -4.3 2.37e+004    -  1.27e-006 4.73e-006f  1\n",
      "  79r2.6086735e+008 4.94e+003 5.36e+004  -4.3 1.15e+004    -  9.13e-001 5.29e-010f  1\n",
      "iter    objective    inf_pr   inf_du lg(mu)  ||d||  lg(rg) alpha_du alpha_pr  ls\n",
      "  80r2.6086734e+008 4.94e+003 4.42e+004  -4.3 2.73e-002    -  9.39e-002 2.81e-003f  1\n",
      "  81r2.6086695e+008 4.94e+003 5.25e+004  -4.3 6.91e-002    -  5.61e-006 1.76e-001f  1\n",
      "  82r2.5771449e+008 4.94e+003 2.41e+004  -4.3 2.85e+002    -  5.04e-001 3.40e-001f  1\n",
      "  83r2.5771255e+008 4.94e+003 3.05e+004  -4.3 1.88e+002    -  3.40e-001 3.18e-004f  1\n",
      "  84r2.5771255e+008 4.94e+003 3.25e+004  -4.3 3.02e-001    -  1.49e-001 5.35e-006f  2\n",
      "  85r2.5771127e+008 4.94e+003 2.40e+004  -4.3 2.01e-001    -  9.48e-006 1.93e-001f  1\n",
      "  86r2.5504221e+008 4.94e+003 1.74e+004  -4.3 1.66e+002    -  1.00e+000 4.93e-001f  1\n",
      "  87r2.5254165e+008 4.94e+003 1.48e+003  -4.3 8.41e+001    -  4.93e-001 9.15e-001f  1\n",
      "  88r2.5254151e+008 4.94e+003 1.48e+003  -4.3 7.14e+000    -  1.00e+000 5.83e-004f  1\n",
      "  89r2.5254163e+008 4.94e+003 2.39e-004  -4.3 5.77e-003    -  1.00e+000 1.00e+000f  1\n",
      "iter    objective    inf_pr   inf_du lg(mu)  ||d||  lg(rg) alpha_du alpha_pr  ls\n",
      "  90r2.5254152e+008 4.94e+003 2.01e-007  -4.3 3.57e-003    -  1.00e+000 1.00e+000h  1\n",
      "  91r2.5254152e+008 4.94e+003 5.98e+001  -6.4 2.02e-004    -  1.00e+000 1.00e+000f  1\n",
      "  92r2.5254152e+008 4.94e+003 1.33e+003  -6.4 1.26e-002    -  6.06e-002 1.79e-002h  1\n",
      "  93r2.5253685e+008 4.94e+003 2.92e+003  -6.4 1.03e+000    -  2.57e-008 1.39e-001f  1\n",
      "  94r2.4910746e+008 4.90e+003 2.55e+003  -6.4 4.67e+003    -  3.47e-002 2.25e-002f  1\n",
      "In iteration 94, 1 Slack too small, adjusting variable bound\n",
      "  95r2.3527310e+008 4.75e+003 4.01e+003  -6.4 4.56e+003    -  2.26e-002 9.47e-002f  1\n",
      "In iteration 95, 2 Slacks too small, adjusting variable bounds\n",
      "  96r2.0924398e+008 4.45e+003 3.32e+003  -6.4 4.13e+003    -  2.00e-001 2.06e-001f  1\n",
      "  97 3.3106153e+006 6.64e+001 1.99e+004  -1.0 1.28e+004    -  5.00e-005 1.00e+000f  1\n",
      "  98 3.3072177e+006 5.77e+001 1.73e+004  -1.0 4.39e+001   0.0 3.93e-001 1.32e-001f  1\n",
      "  99 3.3023266e+006 5.39e+001 1.62e+004  -1.0 1.29e+002  -0.5 1.83e-001 6.42e-002f  1\n",
      "iter    objective    inf_pr   inf_du lg(mu)  ||d||  lg(rg) alpha_du alpha_pr  ls\n",
      " 100 3.2988852e+006 5.39e+001 1.62e+004  -1.0 7.67e+005    -  7.92e-005 2.77e-005f  1\n",
      " 101 3.2855990e+006 5.39e+001 1.62e+004  -1.0 3.62e+005    -  2.36e-004 2.40e-004f  1\n",
      " 102 3.2835140e+006 5.39e+001 1.62e+004  -1.0 1.16e+005    -  4.76e-003 1.01e-004f  1\n",
      " 103 3.2602742e+006 5.38e+001 1.61e+004  -1.0 5.03e+004    -  1.20e-002 1.92e-003f  1\n",
      " 104 3.2306193e+006 5.37e+001 1.61e+004  -1.0 4.16e+004    -  3.33e-002 2.87e-003f  1\n",
      " 105 3.2293940e+006 5.36e+001 1.61e+004  -1.0 3.04e+004    -  2.06e-002 1.45e-004f  1\n",
      " 106 3.0833030e+006 5.27e+001 1.60e+004  -1.0 2.88e+004    -  5.32e-002 1.82e-002f  1\n",
      " 107 3.0789916e+006 5.26e+001 1.66e+004  -1.0 1.75e+004    -  1.01e-001 7.60e-004f  1\n",
      " 108 2.5018756e+006 2.99e+002 1.42e+004  -1.0 1.71e+004    -  1.48e-001 1.16e-001f  1\n",
      " 109 2.3932928e+006 2.90e+002 1.35e+004  -1.0 5.98e+003    -  5.32e-002 4.27e-002f  1\n",
      "iter    objective    inf_pr   inf_du lg(mu)  ||d||  lg(rg) alpha_du alpha_pr  ls\n",
      " 110 2.3903151e+006 2.89e+002 1.26e+004  -1.0 1.87e+003    -  6.94e-002 1.57e-003f  1\n",
      " 111 2.2991241e+006 2.73e+002 1.28e+004  -1.0 1.54e+003    -  6.59e-004 5.50e-002f  1\n",
      " 112 1.5939218e+006 9.15e+001 1.27e+004  -1.0 1.88e+003    -  4.00e-002 6.65e-001f  1\n",
      " 113 1.5770870e+006 8.25e+001 1.11e+004  -1.0 4.38e+002    -  1.23e-001 9.84e-002f  1\n",
      " 114 1.4927290e+006 3.78e+000 1.16e+004  -1.0 3.95e+002    -  1.49e-003 1.00e+000f  1\n",
      " 115 1.4402329e+006 2.54e+001 9.98e+003  -1.0 2.07e+003    -  9.86e-003 4.00e-001f  1\n",
      " 116 1.4049171e+006 1.60e+002 5.19e+003  -1.0 1.92e+003    -  2.57e-001 1.00e+000f  1\n",
      " 117 1.3938330e+006 2.92e+001 4.89e+003  -1.0 2.57e+002    -  3.70e-003 8.40e-001f  1\n",
      " 118 1.2961969e+006 1.98e+002 4.32e+003  -1.0 3.06e+003    -  5.17e-002 1.00e+000f  1\n",
      " 119 1.2961774e+006 1.55e+000 3.14e+002  -1.0 5.28e+001    -  9.29e-001 1.00e+000f  1\n",
      "iter    objective    inf_pr   inf_du lg(mu)  ||d||  lg(rg) alpha_du alpha_pr  ls\n",
      " 120 1.2961718e+006 3.81e-002 6.81e+001  -1.0 3.37e+001    -  7.83e-001 1.00e+000f  1\n",
      " 121 1.2961740e+006 1.83e-001 1.53e+001  -1.0 7.83e+001    -  7.75e-001 1.00e+000f  1\n",
      " 122 1.2961669e+006 5.98e-003 3.38e+000  -1.0 1.38e+001    -  7.79e-001 1.00e+000f  1\n",
      " 123 1.2961650e+006 6.49e-003 7.72e-001  -1.0 3.59e-001    -  7.72e-001 1.00e+000f  1\n",
      " 124 1.2961596e+006 7.82e-002 3.18e-004  -1.7 5.49e+001    -  1.00e+000 1.00e+000f  1\n",
      " 125 1.2961587e+006 3.86e-002 3.23e-005  -2.5 3.84e+001    -  1.00e+000 1.00e+000f  1\n",
      " 126 1.2961586e+006 5.79e-003 1.48e-006  -2.5 1.65e+001    -  1.00e+000 1.00e+000h  1\n",
      " 127 1.2961586e+006 3.42e-003 2.26e-007  -3.8 1.38e+001    -  1.00e+000 1.00e+000h  1\n",
      " 128 1.2961586e+006 8.44e-005 6.18e-010  -3.8 6.43e+000    -  1.00e+000 1.00e+000h  1\n",
      " 129 1.2961586e+006 2.88e-004 1.97e-009  -5.7 4.18e+000    -  1.00e+000 1.00e+000h  1\n",
      "iter    objective    inf_pr   inf_du lg(mu)  ||d||  lg(rg) alpha_du alpha_pr  ls\n",
      " 130 1.2961586e+006 2.93e-004 3.45e-012  -5.7 2.07e+000    -  1.00e+000 1.00e+000h  1\n",
      " 131 1.2961586e+006 1.78e-004 2.86e-012  -5.7 9.93e-001    -  1.00e+000 1.00e+000h  1\n",
      " 132 1.2961586e+006 8.46e-005 2.09e-012  -5.7 4.25e-001    -  1.00e+000 1.00e+000h  1\n",
      " 133 1.2961586e+006 2.57e-005 3.27e-012  -5.7 1.23e-001    -  1.00e+000 1.00e+000h  1\n",
      " 134 1.2961586e+006 2.64e-006 2.28e-012  -5.7 1.24e-002    -  1.00e+000 1.00e+000h  1\n",
      " 135 1.2961586e+006 6.12e-005 2.33e-011  -8.6 2.99e-001    -  1.00e+000 1.00e+000h  1\n",
      " 136 1.2961586e+006 3.13e-005 2.37e-012  -8.6 1.49e-001    -  1.00e+000 1.00e+000h  1\n",
      " 137 1.2961586e+006 1.57e-005 6.49e-012  -8.6 7.37e-002    -  1.00e+000 1.00e+000h  1\n",
      " 138 1.2961586e+006 7.57e-006 3.63e-012  -8.6 3.53e-002    -  1.00e+000 1.00e+000h  1\n",
      " 139 1.2961586e+006 3.22e-006 3.06e-012  -8.6 1.50e-002    -  1.00e+000 1.00e+000h  1\n",
      "iter    objective    inf_pr   inf_du lg(mu)  ||d||  lg(rg) alpha_du alpha_pr  ls\n",
      " 140 1.2961586e+006 9.06e-007 3.69e-012  -8.6 4.21e-003    -  1.00e+000 1.00e+000h  1\n",
      " 141 1.2961586e+006 8.49e-008 3.28e-012  -8.6 3.95e-004    -  1.00e+000 1.00e+000h  1\n",
      " 142 1.2961586e+006 5.84e-009 2.44e-012  -8.6 3.60e-006    -  1.00e+000 1.00e+000h  1\n",
      "\n",
      "Number of Iterations....: 142\n",
      "\n",
      "                                   (scaled)                 (unscaled)\n",
      "Objective...............:  4.1372551176704897e+005   1.2961585934697625e+006\n",
      "Dual infeasibility......:  2.4389744951951722e-012   7.6410510381597850e-012\n",
      "Constraint violation....:  5.8353180065751076e-009   5.8353180065751076e-009\n",
      "Complementarity.........:  2.5059037268334125e-009   7.8507332943293771e-009\n",
      "Overall NLP error.......:  5.8353180065751076e-009   7.8507332943293771e-009\n",
      "\n",
      "\n",
      "Number of objective function evaluations             = 146\n",
      "Number of objective gradient evaluations             = 49\n",
      "Number of equality constraint evaluations            = 146\n",
      "Number of inequality constraint evaluations          = 0\n",
      "Number of equality constraint Jacobian evaluations   = 144\n",
      "Number of inequality constraint Jacobian evaluations = 0\n",
      "Number of Lagrangian Hessian evaluations             = 142\n",
      "Total CPU secs in IPOPT (w/o function evaluations)   =      0.378\n",
      "Total CPU secs in NLP function evaluations           =     11.143\n",
      "\n",
      "EXIT: Optimal Solution Found.\n",
      "      solver  :   t_proc      (avg)   t_wall      (avg)    n_eval\n",
      "       nlp_f  |  20.00ms (136.99us)  19.15ms (131.18us)       146\n",
      "       nlp_g  | 381.00ms (  2.61ms) 381.07ms (  2.61ms)       146\n",
      "  nlp_grad_f  |  15.00ms (300.00us)  14.95ms (299.04us)        50\n",
      "  nlp_hess_l  |   8.65 s ( 61.33ms)   8.65 s ( 61.34ms)       141\n",
      "   nlp_jac_g  |   2.08 s ( 14.35ms)   2.08 s ( 14.36ms)       145\n",
      "       total  |  11.52 s ( 11.52 s)  11.52 s ( 11.52 s)         1\n"
     ]
    }
   ],
   "source": [
    "# Create the optimization problem\n",
    "g_bnd = np.zeros(N*2)\n",
    "nlp = {'f':cost, 'g':constraints, 'x':variables}\n",
    "solver = nlpsol('solver','ipopt',nlp)\n",
    "sol_out = solver(lbx=zlb, ubx=zub, lbg=g_bnd, ubg=g_bnd)"
   ]
  },
  {
   "cell_type": "code",
   "execution_count": 269,
   "metadata": {},
   "outputs": [
    {
     "name": "stdout",
     "output_type": "stream",
     "text": [
      "(101, 2)\n",
      "(101, 2)\n"
     ]
    }
   ],
   "source": [
    "# Get the solution (x and u trajectories)\n",
    "x = [[float(sol_out['x'][4*i+j]) for j in range(2)] for i in range(N+1)]\n",
    "u = [[float(sol_out['x'][4*i+2+j]) for j in range(2)] for i in range(N)]\n",
    "u.append(u[-1])\n",
    "\n",
    "x = np.array(x)\n",
    "u = np.array(u)\n",
    "\n",
    "print(x.shape)\n",
    "print(u.shape)\n"
   ]
  },
  {
   "cell_type": "code",
   "execution_count": 272,
   "metadata": {},
   "outputs": [
    {
     "data": {
      "text/plain": [
       "<Figure size 1008x1008 with 0 Axes>"
      ]
     },
     "metadata": {},
     "output_type": "display_data"
    },
    {
     "data": {
      "image/png": "[encoded data removed]",
      "text/plain": [
       "<Figure size 720x720 with 4 Axes>"
      ]
     },
     "metadata": {
      "needs_background": "light"
     },
     "output_type": "display_data"
    }
   ],
   "source": [
    "# Figure\n",
    "plt.figure(figsize=[14, 14])\n",
    "fig, axs = plt.subplots(4, 1, figsize=[10, 10])\n",
    "t_max = 0.1\n",
    "for j in range(2):\n",
    "    axs[j].plot(time, x[:, j], 'b-')\n",
    "    axs[j].set_ylabel(f'$x_{j+1}$')\n",
    "    axs[j].set_xlim([0, t_max])\n",
    "\n",
    "for j in range(2):\n",
    "    axs[j+2].plot(time, u[:, j], 'b-')\n",
    "    axs[j+2].set_ylabel(f'$u_{j+1}$')\n",
    "    axs[j+2].set_ylim([0, 60])\n",
    "    axs[j+2].set_xlim([0, t_max])\n",
    "    axs[3].set_xlabel('time (hr)')"
   ]
  },
  {
   "cell_type": "code",
   "execution_count": null,
   "metadata": {},
   "outputs": [],
   "source": []
  }
 ],
 "metadata": {
  "kernelspec": {
   "display_name": "Python 3",
   "language": "python",
   "name": "python3"
  },
  "language_info": {
   "codemirror_mode": {
    "name": "ipython",
    "version": 3
   },
   "file_extension": ".py",
   "mimetype": "text/x-python",
   "name": "python",
   "nbconvert_exporter": "python",
   "pygments_lexer": "ipython3",
   "version": "3.8.5"
  }
 },
 "nbformat": 4,
 "nbformat_minor": 5
}
